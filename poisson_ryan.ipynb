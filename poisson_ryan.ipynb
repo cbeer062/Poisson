{
 "cells": [
  {
   "cell_type": "code",
   "execution_count": null,
   "metadata": {},
   "outputs": [],
   "source": [
    "from scipy.stats import poisson\n",
    "import pandas as pd\n",
    "from datetime import datetime\n",
    "from azure.storage.blob import *\n",
    "import io"
   ]
  },
  {
   "cell_type": "markdown",
   "metadata": {},
   "source": [
    "# These do not change"
   ]
  },
  {
   "cell_type": "code",
   "execution_count": null,
   "metadata": {},
   "outputs": [],
   "source": [
    "# data1 = pd.read_csv('InnerEventTimes_Data_test.csv')\n",
    "accountKey=\"EkMCD1bIrMp8g3+5DOpjFkRl3oDFXG83MmMSBrdVsP2iRa6s4hZSa3yis5l6grdYRPgOkFAUJHf6v+GardbUfw==\"\n",
    "accountName='iaprod'"
   ]
  },
  {
   "cell_type": "markdown",
   "metadata": {},
   "source": [
    "# Below will needed to be changed"
   ]
  },
  {
   "cell_type": "code",
   "execution_count": null,
   "metadata": {},
   "outputs": [],
   "source": [
    "containerName='poissoncraig'\n",
    "blobName='data_b5a30808-d3e9-41f9-852e-ef39dcf31c7f_026a981b-e758-4809-9d2a-7b0050e0dc0a.txt'"
   ]
  },
  {
   "cell_type": "markdown",
   "metadata": {},
   "source": [
    "# Data I/O"
   ]
  },
  {
   "cell_type": "code",
   "execution_count": null,
   "metadata": {},
   "outputs": [],
   "source": [
    "block_blob_service=BlockBlobService(account_name=accountName,account_key=accountKey)\n",
    "data1 = block_blob_service.get_blob_to_text(containerName,blobName,encoding='utf-8')"
   ]
  },
  {
   "cell_type": "code",
   "execution_count": null,
   "metadata": {},
   "outputs": [],
   "source": [
    "data1 = data1.content"
   ]
  },
  {
   "cell_type": "code",
   "execution_count": null,
   "metadata": {},
   "outputs": [],
   "source": [
    "df = pd.read_csv(io.StringIO(data1))"
   ]
  },
  {
   "cell_type": "code",
   "execution_count": null,
   "metadata": {},
   "outputs": [],
   "source": [
    "data1 = df"
   ]
  },
  {
   "cell_type": "code",
   "execution_count": null,
   "metadata": {},
   "outputs": [],
   "source": [
    "FinalData = pd.DataFrame([])\n",
    "tup_now = datetime.now().timetuple()\n",
    "dateToday =datetime.today()\n",
    "today = datetime.strftime(dateToday,'%Y-%m-%d')\n",
    "# data1 = pd.read_csv('./InnerEventTimes_Data_test.csv')\n",
    "data1 = data1.sort_values(by=['CustomerAddressKey', 'Date2'], ascending=False)\n",
    "AllButLastData1 = data1[data1.Date2 < today]\n",
    "CustGroupABL = AllButLastData1.groupby(\n",
    "    'CustomerAddressKey').mean().drop(['Row1','Daily_Revenue'],axis=1)\n",
    "FinalData = data1.merge(\n",
    "    CustGroupABL, on='CustomerAddressKey').rename(\n",
    "    index=str, columns={'InnerEventTime_y':'AvgInnerEventTime','InnerEventTime_x':'DaySinceLastPurchase'}).drop('Row1',axis=1)\n",
    "FinalData = FinalData.assign(p = 0).rename(index=str, columns={'p':'Probability'})\n",
    "FinalData.Probability = (poisson.cdf(FinalData.DaySinceLastPurchase, FinalData.AvgInnerEventTime, loc=0))\n",
    "writeFileName = 'innerEventTime_Current.csv'\n",
    "\n",
    "## RETURN RESULTS TO BLOB\n",
    "# This container and account must already be created, although with more code you could create them in python\n",
    "\n",
    "blobName = writeFileName\n",
    "output = io.StringIO()\n",
    "output = FinalData.to_csv(index_label=\"idx\", encoding = \"utf-8\", na_rep='NULL')\n",
    "\n",
    "block_blob_service = BlockBlobService(account_name=accountName, account_key=accountKey) \n",
    "block_blob_service.create_blob_from_text(containerName, blobName, output)"
   ]
  },
  {
   "cell_type": "code",
   "execution_count": null,
   "metadata": {},
   "outputs": [],
   "source": []
  }
 ],
 "metadata": {
  "kernelspec": {
   "display_name": "Python 3",
   "language": "python",
   "name": "python3"
  },
  "language_info": {
   "codemirror_mode": {
    "name": "ipython",
    "version": 3
   },
   "file_extension": ".py",
   "mimetype": "text/x-python",
   "name": "python",
   "nbconvert_exporter": "python",
   "pygments_lexer": "ipython3",
   "version": "3.6.7"
  }
 },
 "nbformat": 4,
 "nbformat_minor": 2
}
