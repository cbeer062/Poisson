{
 "cells": [
  {
   "cell_type": "code",
   "execution_count": 25,
   "metadata": {
    "scrolled": true
   },
   "outputs": [],
   "source": [
    "from scipy.stats import poisson\n",
    "import pandas as pd\n",
    "from datetime import datetime\n",
    "FinalData = pd.DataFrame([])\n",
    "tup_now = datetime.now().timetuple()\n",
    "dateToday =datetime.today()\n",
    "today = datetime.strftime(dateToday,'%Y-%m-%d')"
   ]
  },
  {
   "cell_type": "code",
   "execution_count": 26,
   "metadata": {
    "scrolled": true
   },
   "outputs": [],
   "source": [
    "path = \"//usoil.local/Production/USV/Apps/PowerBI/US AutoForce/Sales Reports/Poisson/sql_output/InnerEventTimes_Data.csv\"\n",
    "data1 = pd.read_csv(path)\n",
    "data1 = data1.sort_values(by=['CustomerAddressKey', 'Date2'], ascending=False)"
   ]
  },
  {
   "cell_type": "code",
   "execution_count": 27,
   "metadata": {},
   "outputs": [],
   "source": [
    "AllButLastData1 = data1[data1.Date2 < today]\n",
    "CustGroupABL = AllButLastData1.groupby(\n",
    "    'CustomerAddressKey').mean().drop(['Row1','Daily_Revenue'],axis=1)\n",
    "FinalData = data1.merge(\n",
    "    CustGroupABL, on='CustomerAddressKey').rename(\n",
    "    index=str, columns={'InnerEventTime_y':'AvgInnerEventTime','InnerEventTime_x':'DaySinceLastPurchase'}).drop('Row1',axis=1)"
   ]
  },
  {
   "cell_type": "code",
   "execution_count": 28,
   "metadata": {},
   "outputs": [],
   "source": [
    "FinalData = FinalData.assign(p = 0).rename(index=str, columns={'p':'Probability'})"
   ]
  },
  {
   "cell_type": "code",
   "execution_count": 29,
   "metadata": {},
   "outputs": [],
   "source": [
    "FinalData.Probability = (poisson.cdf(FinalData.DaySinceLastPurchase, FinalData.AvgInnerEventTime, loc=0))"
   ]
  },
  {
   "cell_type": "code",
   "execution_count": 6,
   "metadata": {
    "scrolled": true
   },
   "outputs": [],
   "source": [
    "path = \"//usoil.local/Production/USV/Apps/PowerBI/US AutoForce/Sales Reports/Poisson/\"\n",
    "writeFileName = path + 'innerEventTime_Current.csv'\n",
    "FinalData.to_csv(writeFileName, index=False)\n",
    "writeFilename_archive = path + 'csv_archive/' + str(tup_now.tm_year) + '_' + str(tup_now.tm_mon).zfill(2) \\\n",
    "                        + '_' + str(tup_now.tm_mday).zfill(2) + '_' + 'innerEventTime_' \\\n",
    "                        + str(tup_now.tm_hour).zfill(2) + str(tup_now.tm_min).zfill(2) + str(tup_now.tm_sec).zfill(2) \\\n",
    "                        + '.csv'\n",
    "FinalData.to_csv(writeFilename_archive, index=False)"
   ]
  },
  {
   "cell_type": "code",
   "execution_count": 8,
   "metadata": {
    "scrolled": true
   },
   "outputs": [],
   "source": [
    "MostRecentEvent = FinalData.sort_values(by='Date2').groupby('CustomerAddressKey').last()\n",
    "pd.set_option('display.float_format', lambda x: '%.5f' % x)"
   ]
  },
  {
   "cell_type": "code",
   "execution_count": 9,
   "metadata": {},
   "outputs": [],
   "source": [
    "path = \"//usoil.local/Production/USV/Apps/PowerBI/US AutoForce/Sales Reports/Poisson/\"\n",
    "writeFileName = path + 'lastInnerEventTime_Current.csv'\n",
    "MostRecentEvent.to_csv(writeFileName, index=True)\n",
    "writeFilename_archive = path + 'csv_archive/' + str(tup_now.tm_year) + '_' + str(tup_now.tm_mon).zfill(2) \\\n",
    "                        + '_' + str(tup_now.tm_mday).zfill(2) + '_' + 'lastInnerEventTime_' \\\n",
    "                        + str(tup_now.tm_hour).zfill(2) + str(tup_now.tm_min).zfill(2) + str(tup_now.tm_sec).zfill(2) \\\n",
    "                        + '.csv'\n",
    "MostRecentEvent.to_csv(writeFilename_archive, index=True)"
   ]
  }
 ],
 "metadata": {
  "kernelspec": {
   "display_name": "Python 3",
   "language": "python",
   "name": "python3"
  },
  "language_info": {
   "codemirror_mode": {
    "name": "ipython",
    "version": 3
   },
   "file_extension": ".py",
   "mimetype": "text/x-python",
   "name": "python",
   "nbconvert_exporter": "python",
   "pygments_lexer": "ipython3",
   "version": "3.7.1"
  }
 },
 "nbformat": 4,
 "nbformat_minor": 2
}
